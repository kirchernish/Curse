{
 "cells": [
  {
   "cell_type": "code",
   "execution_count": 6,
   "id": "9486e219-290d-4acd-977b-579cfff76700",
   "metadata": {
    "tags": []
   },
   "outputs": [
    {
     "name": "stdin",
     "output_type": "stream",
     "text": [
      "word =  walking\n"
     ]
    },
    {
     "name": "stdout",
     "output_type": "stream",
     "text": [
      "k\n"
     ]
    }
   ],
   "source": [
    "word = input(\"word = \")\n",
    "if len(word) % 2 == 0: print(word[len(word)//2-1:len(word)//2+1])\n",
    "if len(word) % 2 != 0: print(word[len(word)//2])"
   ]
  },
  {
   "cell_type": "code",
   "execution_count": null,
   "id": "bd459b8a-05cc-42a1-8fb7-b650300465e5",
   "metadata": {},
   "outputs": [],
   "source": [
    "#Пишите имена через , с пробелом, чтобы хорошо работало#\n",
    "boys = input(\"boys = \").split(', ')\n",
    "girls = input(\"girls = \").split(', ')\n",
    "if len(boys) > len(girls) or len(boys) < len(girls): print(\"Результат: Внимание, кто-то может остаться без пары.\")\n",
    "else:\n",
    "    boys = sorted(boys)\n",
    "    girls = sorted(girls)\n",
    "    print(\"Результат\",\"Идеальные пары:\", sep=\"\\n\")\n",
    "    for i in range(len(boys)):\n",
    "        print(f\"{boys[i]} и {girls[i]}\")\n",
    "        "
   ]
  },
  {
   "cell_type": "code",
   "execution_count": null,
   "id": "f033d1d8-db42-4400-a650-78435c454f34",
   "metadata": {},
   "outputs": [],
   "source": []
  }
 ],
 "metadata": {
  "kernelspec": {
   "display_name": "Python 3",
   "language": "python",
   "name": "python3"
  },
  "language_info": {
   "codemirror_mode": {
    "name": "ipython",
    "version": 3
   },
   "file_extension": ".py",
   "mimetype": "text/x-python",
   "name": "python",
   "nbconvert_exporter": "python",
   "pygments_lexer": "ipython3",
   "version": "3.7.2"
  }
 },
 "nbformat": 4,
 "nbformat_minor": 5
}
