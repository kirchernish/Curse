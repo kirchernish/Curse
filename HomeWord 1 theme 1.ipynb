{
 "cells": [
  {
   "cell_type": "code",
   "execution_count": 22,
   "id": "51be43fb-6a75-46bb-95e0-707862e9b88b",
   "metadata": {
    "tags": []
   },
   "outputs": [
    {
     "name": "stdin",
     "output_type": "stream",
     "text": [
      "year = 2024\n"
     ]
    },
    {
     "name": "stdout",
     "output_type": "stream",
     "text": [
      "Високосный год\n"
     ]
    }
   ],
   "source": [
    " print(\"Високосный год\") if int(input(\"year =\")) % 4 == 0 else print(\"Обычный год\")"
   ]
  },
  {
   "cell_type": "code",
   "execution_count": 27,
   "id": "4f79d266-2b86-457c-a686-9ca7676df04f",
   "metadata": {
    "tags": []
   },
   "outputs": [
    {
     "name": "stdin",
     "output_type": "stream",
     "text": [
      "number =  123321\n"
     ]
    },
    {
     "name": "stdout",
     "output_type": "stream",
     "text": [
      "Счастливый билет\n"
     ]
    }
   ],
   "source": [
    "num = input(\"number = \")\n",
    "print(\"Счастливый билет\") if sum(map(int, num[:3])) == sum(map(int, num[3:])) else print(\"Несчастливый билет\")\n"
   ]
  },
  {
   "cell_type": "code",
   "execution_count": null,
   "id": "2cca45e7-beab-4a06-b31b-7c5a59dc3be0",
   "metadata": {},
   "outputs": [],
   "source": []
  }
 ],
 "metadata": {
  "kernelspec": {
   "display_name": "Python 3",
   "language": "python",
   "name": "python3"
  },
  "language_info": {
   "codemirror_mode": {
    "name": "ipython",
    "version": 3
   },
   "file_extension": ".py",
   "mimetype": "text/x-python",
   "name": "python",
   "nbconvert_exporter": "python",
   "pygments_lexer": "ipython3",
   "version": "3.7.2"
  }
 },
 "nbformat": 4,
 "nbformat_minor": 5
}
