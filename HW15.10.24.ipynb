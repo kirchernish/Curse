{
 "cells": [
  {
   "cell_type": "code",
   "execution_count": 31,
   "id": "72ceb319-e27f-4bb5-a382-a6f083ee1a60",
   "metadata": {
    "tags": []
   },
   "outputs": [
    {
     "name": "stdout",
     "output_type": "stream",
     "text": [
      "price_less_20 = {\n",
      "'milk15' : False,\n",
      "'cheese' : True,\n",
      "'sausage' : False,\n",
      "}\n"
     ]
    }
   ],
   "source": [
    "items = {\n",
    " 'milk15':{'name': 'молоко 1.5%', 'count': 34, 'price': 89.9},\n",
    " 'cheese':{'name': 'сыр молочный 1 кг.', 'count': 12, 'price': 990.9},\n",
    " 'sausage':{'name': 'колбаса 1 кг.', 'count': 122, 'price': 1990.9}\n",
    "}\n",
    "price_less_20 = dict()\n",
    "for key in list(items):\n",
    "    if items[key]['count'] < 20:\n",
    "        price_less_20[key] = True\n",
    "    else:\n",
    "        price_less_20[key] = False\n",
    "print(\"price_less_20 = {\")\n",
    "for key in list(price_less_20):\n",
    "    print(f\"'{key}' : {price_less_20[key]},\")\n",
    "print(\"}\")"
   ]
  },
  {
   "cell_type": "code",
   "execution_count": null,
   "id": "bc398f35-92db-471b-a604-56f7688a95c5",
   "metadata": {},
   "outputs": [],
   "source": []
  }
 ],
 "metadata": {
  "kernelspec": {
   "display_name": "Python 3",
   "language": "python",
   "name": "python3"
  },
  "language_info": {
   "codemirror_mode": {
    "name": "ipython",
    "version": 3
   },
   "file_extension": ".py",
   "mimetype": "text/x-python",
   "name": "python",
   "nbconvert_exporter": "python",
   "pygments_lexer": "ipython3",
   "version": "3.7.2"
  }
 },
 "nbformat": 4,
 "nbformat_minor": 5
}
